{
  "nbformat": 4,
  "nbformat_minor": 0,
  "metadata": {
    "colab": {
      "provenance": []
    },
    "kernelspec": {
      "name": "python3",
      "display_name": "Python 3"
    },
    "language_info": {
      "name": "python"
    }
  },
  "cells": [
    {
      "cell_type": "markdown",
      "source": [
        "# Intelligenza Artificiale - Lab 2"
      ],
      "metadata": {
        "id": "4MZLWjvaBEbK"
      }
    },
    {
      "cell_type": "markdown",
      "source": [
        "In questo laboratorio esploreremo le potenzialità del Percettrone con strati nascosti, dett anche **Multi-Layer Perceptron** (MLP). Vedremo come creare, addestrare e valutare facilmente questo tipo di modello usando una libreria Python che offre funzionalità ad alto livello per il *machine learning*: **Scikit-Learn**. Grazie a questa libreria, implementeremo un Multi-Layer Perceptron per risolvere diversi problemi di classificazione, a partire dal problema logico dello XOR fino ad arrivare a casi più realistici e complessi."
      ],
      "metadata": {
        "id": "_Yhi8NgdkOHX"
      }
    },
    {
      "cell_type": "code",
      "source": [
        "import numpy as np\n",
        "import matplotlib.pyplot as plt"
      ],
      "metadata": {
        "id": "n6wpeYsRi6eX"
      },
      "execution_count": null,
      "outputs": []
    },
    {
      "cell_type": "markdown",
      "source": [
        "## La funzione logica XOR"
      ],
      "metadata": {
        "id": "aDrcvKsywKVl"
      }
    },
    {
      "cell_type": "markdown",
      "source": [
        "Come abbiamo visto nel precedente laboratorio, un Percettrone non è in grado di risolvere il problema XOR, poiché non è linearmente separabile. Per risolverlo dobbiamo quindi aggiungere almeno uno **strato nascosto** di neuroni con **funzione di attivazione non lineare**, aumentando così le capacità espressive del modello di apprendimento."
      ],
      "metadata": {
        "id": "7l06usMLlV3T"
      }
    },
    {
      "cell_type": "code",
      "source": [
        "input_xor = np.array([[0, 0],\n",
        "                      [0, 1],\n",
        "                      [1, 0],\n",
        "                      [1, 1]])\n",
        "target_xor = np.array([0,\n",
        "                       1,\n",
        "                       1,\n",
        "                       0])"
      ],
      "metadata": {
        "id": "TRfDesJhi5l7"
      },
      "execution_count": null,
      "outputs": []
    },
    {
      "cell_type": "code",
      "source": [
        "from sklearn.neural_network import MLPClassifier"
      ],
      "metadata": {
        "id": "LDhlPNUui_8a"
      },
      "execution_count": null,
      "outputs": []
    },
    {
      "cell_type": "markdown",
      "source": [
        "In Scikit-Learn sia la struttura del modello che l'algoritmo di apprendimento usato per modificarne i pesi sono definiti all'interno della classe `MLPClassifier`. Quando creiamo una nuova *istanza* della classe dobbiamo quindi specificare i parametri che descrivono la struttura del modello (`hidden_layer_sizes`), quelli che specificano l'algoritmo di apprendimento usato (`solver`) e quelli che regolano l'algoritmo di apprendimento (`learning_rate_init`, `max_iter`, `random_state`).\n",
        "\n",
        "In particolare, il parametro `random_state` (che useremo anche in altri punti di questo laboratorio) serve ad aumentare il grado di riproducibilità dei risultati che dipendono da variabili casuali, in quanto consente di ottenere gli stessi numeri random quando ripetiamo una simulazione.\n",
        "\n",
        "Per ulteriori informazioni sulle classi e le funzioni disponibili, possiamo facilmente consultare la\n",
        "[documentazione online](https://scikit-learn.org/stable/modules/generated/sklearn.neural_network.MLPClassifier.html) di Scikit-Learn."
      ],
      "metadata": {
        "id": "bcICNZ3qlzqp"
      }
    },
    {
      "cell_type": "code",
      "source": [
        "random_state = 42  # NB: il numero 42 è arbitrario\n",
        "MLP = MLPClassifier(hidden_layer_sizes=(10),\n",
        "                    solver='sgd',\n",
        "                    learning_rate_init=0.1,\n",
        "                    max_iter=2000,\n",
        "                    random_state=random_state)"
      ],
      "metadata": {
        "id": "NRoaOeVojCrD"
      },
      "execution_count": null,
      "outputs": []
    },
    {
      "cell_type": "code",
      "source": [
        "MLP = MLP.fit(input_xor, target_xor.ravel())"
      ],
      "metadata": {
        "id": "EJ73luEWjLqX"
      },
      "execution_count": null,
      "outputs": []
    },
    {
      "cell_type": "markdown",
      "source": [
        "Usando la libreria di visualizzazione `matplotlib` possiamo visualizzare l'andamento del valore della funzione di costo (loss function) durante l'apprendimento."
      ],
      "metadata": {
        "id": "42sAreVXoyRn"
      }
    },
    {
      "cell_type": "code",
      "source": [
        "_ = plt.plot(range(MLP.n_iter_), MLP.loss_curve_)\n",
        "plt.xlabel('Epochs');\n",
        "plt.ylabel('Error');\n",
        "plt.ylim(0, 0.8);"
      ],
      "metadata": {
        "id": "XUrVYjdPjlB5"
      },
      "execution_count": null,
      "outputs": []
    },
    {
      "cell_type": "markdown",
      "source": [
        "La classe `MLPClassifier` ha anche un metodo `score` che permette di calcolare l'accuratezza predittiva del classificatore su un insieme di esempi tenuti da parte per la valutazione. L'accuratezza è una misura molto usata, definita semplicemente come numero di predizioni corrette sul totale."
      ],
      "metadata": {
        "id": "jInF0bQvoIb3"
      }
    },
    {
      "cell_type": "code",
      "source": [
        "MLP.score(input_xor, target_xor) # questa funzione calcola l'accuratezza media (max = 1.0)"
      ],
      "metadata": {
        "id": "4Xcj1PqzkTRF"
      },
      "execution_count": null,
      "outputs": []
    },
    {
      "cell_type": "markdown",
      "source": [
        "## Il dataset *heart disease*"
      ],
      "metadata": {
        "id": "yycp5QMImD6T"
      }
    },
    {
      "cell_type": "markdown",
      "source": [
        "Riprendiamo il dataset *heart disease* che abbiamo già utilizzato alla fine del primo laboratorio. Proviamo ora a risolvere questo problema di classificazione usando un MLP e valutiamo il suo funzionamento usando strumenti che ci permettono di capire meglio i punti di forza e di debolezza del classificatore: la curva ROC e la matrice di confusione."
      ],
      "metadata": {
        "id": "4PBE8N_HmxU9"
      }
    },
    {
      "cell_type": "code",
      "source": [
        "%%capture\n",
        "! wget https://archive.ics.uci.edu/ml/machine-learning-databases/heart-disease/processed.cleveland.data"
      ],
      "metadata": {
        "id": "i9EZVbUamVRt"
      },
      "execution_count": null,
      "outputs": []
    },
    {
      "cell_type": "code",
      "source": [
        "import pandas as pd"
      ],
      "metadata": {
        "id": "I2QfsHrEaUgR"
      },
      "execution_count": null,
      "outputs": []
    },
    {
      "cell_type": "code",
      "source": [
        "heart_disease = pd.read_csv(\"processed.cleveland.data\",\n",
        "                            names=[\"age\", \"sex\", \"cp\", \"trestbps\",\n",
        "                                  \"chol\", \"fbs\", \"restecg\", \"thalach\",\n",
        "                                  \"exang\", \"oldpeak\", \"slope\", \"ca\", \"thal\", \"num\"],\n",
        "                            na_values='?')\n",
        "heart_disease = heart_disease.dropna()\n",
        "heart_disease.num = heart_disease.num.apply(lambda x: 0 if x == 0 else 1)\n",
        "heart_disease.head(10)"
      ],
      "metadata": {
        "id": "0JWkZ-r8mXmx"
      },
      "execution_count": null,
      "outputs": []
    },
    {
      "cell_type": "markdown",
      "source": [
        "Trasformiamo gli esempi e le etichette in vettori di numeri (vettori `NumPy`). Questa volta non teniamo da parte manualmente gli esempi per il test, perché useremo una funzione automatica per partizionare il nostro dataset."
      ],
      "metadata": {
        "id": "BqISv8n3b1Wq"
      }
    },
    {
      "cell_type": "code",
      "source": [
        "hd_in  = heart_disease.loc[:, \"age\":\"thal\"].to_numpy() # le prime 13 colonne rappresentano gli input\n",
        "hd_out = heart_disease.num.to_numpy(dtype=np.float64)  # l'ultima colonna rappresenta il target"
      ],
      "metadata": {
        "id": "E13FYFTwmdqc"
      },
      "execution_count": null,
      "outputs": []
    },
    {
      "cell_type": "markdown",
      "source": [
        "### Apprendimento"
      ],
      "metadata": {
        "id": "rwr03yX4mmNU"
      }
    },
    {
      "cell_type": "code",
      "source": [
        "from sklearn.model_selection import train_test_split\n",
        "import sklearn.metrics as metrics"
      ],
      "metadata": {
        "id": "UQdbmSyN6Hs7"
      },
      "execution_count": null,
      "outputs": []
    },
    {
      "cell_type": "markdown",
      "source": [
        "In questo caso, creiamo in automatico la divisione tra esempi di addestramento e di valutazione usando la funzione `train_test_split` inclusa nella libreria Scikit-Learn. Anche in questo caso può essere utile consultare la [documentazione online](https://scikit-learn.org/stable/modules/generated/sklearn.model_selection.train_test_split.html)."
      ],
      "metadata": {
        "id": "cstbubHknbCz"
      }
    },
    {
      "cell_type": "code",
      "source": [
        "(hd_in_tr, hd_in_te, hd_out_tr, hd_out_te) = train_test_split(hd_in, hd_out)"
      ],
      "metadata": {
        "id": "TGDJ2PZ4mk-5"
      },
      "execution_count": null,
      "outputs": []
    },
    {
      "cell_type": "markdown",
      "source": [
        "Possiamo ora procedere creando la rete neurale ed addestrandola tramite la funzione `fit`:"
      ],
      "metadata": {
        "id": "e2sLKztLnrUl"
      }
    },
    {
      "cell_type": "code",
      "source": [
        "MLP = MLPClassifier(hidden_layer_sizes=(70),  # provare ad aumentare o diminuire il numero di neuroni\n",
        "                    solver='adam', learning_rate_init=0.0005, max_iter=1000, tol=0.0000001, random_state=random_state)"
      ],
      "metadata": {
        "id": "U-WppNhBmskd"
      },
      "execution_count": null,
      "outputs": []
    },
    {
      "cell_type": "code",
      "source": [
        "MLP = MLP.fit(hd_in_tr, hd_out_tr)"
      ],
      "metadata": {
        "id": "B83jqvWpmx1I"
      },
      "execution_count": null,
      "outputs": []
    },
    {
      "cell_type": "markdown",
      "source": [
        "#### Funzione di costo (loss function) e accuratezza"
      ],
      "metadata": {
        "id": "vUYKySymno98"
      }
    },
    {
      "cell_type": "code",
      "source": [
        "_ = plt.plot(range(MLP.n_iter_), MLP.loss_curve_)\n",
        "plt.xlabel('Epochs');\n",
        "plt.ylabel('Error');\n",
        "plt.ylim(0, 3);"
      ],
      "metadata": {
        "id": "X2MPCn8SnUMe"
      },
      "execution_count": null,
      "outputs": []
    },
    {
      "cell_type": "code",
      "source": [
        "MLP.score(hd_in_tr, hd_out_tr)"
      ],
      "metadata": {
        "id": "K10RTVKMdHET"
      },
      "execution_count": null,
      "outputs": []
    },
    {
      "cell_type": "code",
      "source": [
        "MLP.score(hd_in_te, hd_out_te)"
      ],
      "metadata": {
        "id": "yORztmjEnO8I"
      },
      "execution_count": null,
      "outputs": []
    },
    {
      "cell_type": "markdown",
      "source": [
        "#### Curva ROC"
      ],
      "metadata": {
        "id": "xLKlNh57nuOQ"
      }
    },
    {
      "cell_type": "markdown",
      "source": [
        "La curva ROC ([Receiver Operating Characteristic](https://en.wikipedia.org/wiki/Receiver_operating_characteristic/)) è un metodo grafico usato per valutare i classificatori binari. L'idea è di vedere come varia la percentuale di *true positives* e *false positives* al variare della soglia di discriminazione. Dallo stesso grafico si può anche misurare l'*Area Under the Curve* (AUC)."
      ],
      "metadata": {
        "id": "FQ9HTgzspK0F"
      }
    },
    {
      "cell_type": "code",
      "source": [
        "_ = metrics.RocCurveDisplay.from_predictions(hd_out_te, MLP.predict_proba(hd_in_te)[:, 1])"
      ],
      "metadata": {
        "id": "GsN1IbidnX71"
      },
      "execution_count": null,
      "outputs": []
    },
    {
      "cell_type": "markdown",
      "source": [
        "#### Matrice di confusione"
      ],
      "metadata": {
        "id": "0NHBi_8rnymZ"
      }
    },
    {
      "cell_type": "markdown",
      "source": [
        "La matrice di confusione è un altro strumento di visualizzazione degli errori di un classificatore, applicabile anche a classificatori multi-classe. Questo metodo permette di capire in modo dettagliato la distribuzione degli errori di classificazione tra le varie classi."
      ],
      "metadata": {
        "id": "qya9W9boqNSQ"
      }
    },
    {
      "cell_type": "code",
      "source": [
        "_ = metrics.ConfusionMatrixDisplay.from_predictions(hd_out_te, MLP.predict(hd_in_te))"
      ],
      "metadata": {
        "id": "kytRgaoEndlE"
      },
      "execution_count": null,
      "outputs": []
    },
    {
      "cell_type": "markdown",
      "source": [
        "## Il dataset *breast cancer*"
      ],
      "metadata": {
        "id": "xd2yoQ9smOWt"
      }
    },
    {
      "cell_type": "markdown",
      "source": [
        "Consideriamo ora il dataset [breast cancer](https://archive.ics.uci.edu/ml/datasets/breast+cancer+wisconsin+(diagnostic)). Per questo problema di classificazione binaria, un MLP con uno strato nascosto e sole 10 unità riesce a risolvere il problema con una buona accuratezza."
      ],
      "metadata": {
        "id": "01N04jy2qq5K"
      }
    },
    {
      "cell_type": "code",
      "execution_count": null,
      "metadata": {
        "id": "Cc7QAjS7HQM8"
      },
      "outputs": [],
      "source": [
        "%%capture\n",
        "! wget https://archive.ics.uci.edu/ml/machine-learning-databases/breast-cancer-wisconsin/wdbc.data"
      ]
    },
    {
      "cell_type": "code",
      "source": [
        "names = []\n",
        "names += [\"ID\", \"label\"]\n",
        "cell_features = [\"radius\", \"texture\", \"perimeter\",\n",
        "                 \"area\", \"smoothness\", \"compactness\", \"concavity\",\n",
        "                 \"concave_points\", \"symmetry\", \"fractal_dimension\",]\n",
        "for i in range(1, 4):\n",
        "  names += [feature_name + f\"_c{i}\" for feature_name in cell_features]"
      ],
      "metadata": {
        "id": "MOrziZd74mJa"
      },
      "execution_count": null,
      "outputs": []
    },
    {
      "cell_type": "code",
      "source": [
        "breast_cancer = pd.read_csv(\"wdbc.data\",\n",
        "                            names=names,\n",
        "                            na_values='?')\n",
        "breast_cancer = breast_cancer.dropna()\n",
        "breast_cancer = breast_cancer.drop(columns=[\"ID\"])\n",
        "breast_cancer.label = breast_cancer.label.apply(lambda x: 0 if x == \"B\" else 1)\n",
        "breast_cancer.head()"
      ],
      "metadata": {
        "id": "e6Lkl6_naWJu"
      },
      "execution_count": null,
      "outputs": []
    },
    {
      "cell_type": "code",
      "source": [
        "bc_in = breast_cancer.loc[:, \"radius_c1\":\"fractal_dimension_c3\"].to_numpy()\n",
        "bc_out = breast_cancer.label.to_numpy()"
      ],
      "metadata": {
        "id": "nqawq6ixaYXc"
      },
      "execution_count": null,
      "outputs": []
    },
    {
      "cell_type": "markdown",
      "source": [
        "### Apprendimento"
      ],
      "metadata": {
        "id": "4T5-FlDwAzqc"
      }
    },
    {
      "cell_type": "code",
      "source": [
        "(bc_in_tr, bc_in_te, bc_out_tr, bc_out_te) = train_test_split(bc_in, bc_out)"
      ],
      "metadata": {
        "id": "2rFYAMmQ4IQL"
      },
      "execution_count": null,
      "outputs": []
    },
    {
      "cell_type": "code",
      "source": [
        "MLP = MLPClassifier(hidden_layer_sizes=(50),\n",
        "                    solver='adam', learning_rate_init=0.0001,\n",
        "                    max_iter=1000, random_state=random_state)"
      ],
      "metadata": {
        "id": "ZTDdVDas6MNP"
      },
      "execution_count": null,
      "outputs": []
    },
    {
      "cell_type": "code",
      "source": [
        "MLP = MLP.fit(bc_in_tr, bc_out_tr)"
      ],
      "metadata": {
        "id": "-UyFJY2s7IJc"
      },
      "execution_count": null,
      "outputs": []
    },
    {
      "cell_type": "markdown",
      "source": [
        "#### Funzione di costo (loss function) e accuratezza"
      ],
      "metadata": {
        "id": "tYqxDQz9Ayu1"
      }
    },
    {
      "cell_type": "code",
      "source": [
        "_ = plt.plot(range(MLP.n_iter_), MLP.loss_curve_)\n",
        "plt.xlabel('Epochs');\n",
        "plt.ylabel('Error');\n",
        "#plt.ylim(0, 3);"
      ],
      "metadata": {
        "id": "S8Q01WA0DUOl"
      },
      "execution_count": null,
      "outputs": []
    },
    {
      "cell_type": "code",
      "source": [
        "MLP.score(bc_in_tr, bc_out_tr)"
      ],
      "metadata": {
        "id": "35T6ADV97xBc"
      },
      "execution_count": null,
      "outputs": []
    },
    {
      "cell_type": "code",
      "source": [
        "MLP.score(bc_in_te, bc_out_te)"
      ],
      "metadata": {
        "id": "T3r2Lpu5f8bO"
      },
      "execution_count": null,
      "outputs": []
    },
    {
      "cell_type": "markdown",
      "source": [
        "#### Curva ROC"
      ],
      "metadata": {
        "id": "pMwIM2ySAnWT"
      }
    },
    {
      "cell_type": "code",
      "source": [
        "_ = metrics.RocCurveDisplay.from_predictions(bc_out_te,\n",
        "                                             MLP.predict_proba(bc_in_te)[:, 1])"
      ],
      "metadata": {
        "id": "6fKgKsUz_p6q"
      },
      "execution_count": null,
      "outputs": []
    },
    {
      "cell_type": "markdown",
      "source": [
        "#### Matrice di confusione"
      ],
      "metadata": {
        "id": "WPWHtjJNAi2s"
      }
    },
    {
      "cell_type": "code",
      "source": [
        "_ = metrics.ConfusionMatrixDisplay.from_predictions(bc_out_te,\n",
        "                                                    MLP.predict(bc_in_te))"
      ],
      "metadata": {
        "id": "a0wJMKs5CPws"
      },
      "execution_count": null,
      "outputs": []
    },
    {
      "cell_type": "markdown",
      "source": [
        "## Il dataset *yeast*"
      ],
      "metadata": {
        "id": "NqKYueCOoC_6"
      }
    },
    {
      "cell_type": "markdown",
      "source": [
        "Infine, consideriamo un problema di classificazione multi-classe dal dominio biologico. Il dataset [yeast](https://archive.ics.uci.edu/ml/datasets/Yeast) rappresenta diversi campioni di lieviti che possono essere classificati in 10 diverse classi."
      ],
      "metadata": {
        "id": "neIwJRMWrEYU"
      }
    },
    {
      "cell_type": "code",
      "source": [
        "%%capture\n",
        "! wget https://archive.ics.uci.edu/ml/machine-learning-databases/yeast/yeast.data"
      ],
      "metadata": {
        "id": "Yr_nZP_WoUy5"
      },
      "execution_count": null,
      "outputs": []
    },
    {
      "cell_type": "code",
      "source": [
        "yeast = pd.read_csv(\"yeast.data\", sep='[ ]+',\n",
        "                    names=[\"seq_name\", \"mcg\", \"gvh\", \"alm\",\n",
        "                           \"mit\", \"erl\", \"pox\", \"vac\", \"nuc\", \"label\"],\n",
        "                    na_values='?', engine='python')\n",
        "yeast = yeast.dropna()\n",
        "yeast.head(10)"
      ],
      "metadata": {
        "id": "fnP8d0TbopBP"
      },
      "execution_count": null,
      "outputs": []
    },
    {
      "cell_type": "markdown",
      "source": [
        "Trasformiamo i valori delle etichette in numeri interi, creando una \"mappa\" tra le stringhe e i numeri."
      ],
      "metadata": {
        "id": "Bqu0ZfYyuZon"
      }
    },
    {
      "cell_type": "code",
      "source": [
        "yeast.label.unique()"
      ],
      "metadata": {
        "id": "r0aFLoe9rXeP"
      },
      "execution_count": null,
      "outputs": []
    },
    {
      "cell_type": "code",
      "source": [
        "label2int = dict(zip(yeast.label.unique(), range(10)))\n",
        "label2int['MIT']"
      ],
      "metadata": {
        "id": "llc550sXrsdM"
      },
      "execution_count": null,
      "outputs": []
    },
    {
      "cell_type": "code",
      "source": [
        "yeast.label = yeast.label.map(label2int)"
      ],
      "metadata": {
        "id": "eN5rVWqSr0RX"
      },
      "execution_count": null,
      "outputs": []
    },
    {
      "cell_type": "code",
      "source": [
        "ye_in = yeast.loc[:, \"mcg\":\"nuc\"].to_numpy()\n",
        "ye_out = yeast.label.to_numpy()"
      ],
      "metadata": {
        "id": "3YFM2XwxsM0S"
      },
      "execution_count": null,
      "outputs": []
    },
    {
      "cell_type": "markdown",
      "source": [
        "Come vediamo nell'istogramma sottostante, la distribuzione di esempi nelle diverse classi è molto sbilanciata, e questo avrà impatto sulle capacità predittive del nostro modello."
      ],
      "metadata": {
        "id": "3J4k-gR1rRcZ"
      }
    },
    {
      "cell_type": "code",
      "source": [
        "_ = (yeast.label.value_counts()\n",
        "                .sort_index()\n",
        "                .plot.bar(ylabel=\"classe\",\n",
        "                          xlabel=\"frequenza\",\n",
        "                          title=\"Dataset yeast\"))"
      ],
      "metadata": {
        "id": "-g_qPZyi0qMK"
      },
      "execution_count": null,
      "outputs": []
    },
    {
      "cell_type": "markdown",
      "source": [
        "### Apprendimento"
      ],
      "metadata": {
        "id": "pppBXrfwoHRc"
      }
    },
    {
      "cell_type": "code",
      "source": [
        "(ye_in_tr, ye_in_te, ye_out_tr, ye_out_te) = train_test_split(ye_in, ye_out)"
      ],
      "metadata": {
        "id": "hTYY54NOoUYG"
      },
      "execution_count": null,
      "outputs": []
    },
    {
      "cell_type": "code",
      "source": [
        "MLP = MLPClassifier(hidden_layer_sizes=(100),\n",
        "                    solver='adam', learning_rate_init=0.0003,\n",
        "                    max_iter=10000, random_state=random_state)"
      ],
      "metadata": {
        "id": "54T4gGxpsfUU"
      },
      "execution_count": null,
      "outputs": []
    },
    {
      "cell_type": "code",
      "source": [
        "MLP = MLP.fit(ye_in_tr, ye_out_tr)"
      ],
      "metadata": {
        "id": "Jcm5lnKosfOw"
      },
      "execution_count": null,
      "outputs": []
    },
    {
      "cell_type": "markdown",
      "source": [
        "#### Funzione di costo (loss function) e accuratezza"
      ],
      "metadata": {
        "id": "9-FsgbqjoIog"
      }
    },
    {
      "cell_type": "code",
      "source": [
        "_ = plt.plot(range(MLP.n_iter_), MLP.loss_curve_)\n",
        "plt.xlabel('Epochs');\n",
        "plt.ylabel('Error');\n",
        "plt.ylim(0, 3);"
      ],
      "metadata": {
        "id": "HBSm7B_toT-R"
      },
      "execution_count": null,
      "outputs": []
    },
    {
      "cell_type": "code",
      "source": [
        "MLP.score(ye_in_tr, ye_out_tr)"
      ],
      "metadata": {
        "id": "nzdPvwlqoTvp"
      },
      "execution_count": null,
      "outputs": []
    },
    {
      "cell_type": "code",
      "source": [
        "MLP.score(ye_in_te, ye_out_te)"
      ],
      "metadata": {
        "id": "kMi-pR3hgzrm"
      },
      "execution_count": null,
      "outputs": []
    },
    {
      "cell_type": "markdown",
      "source": [
        "#### Matrice di confusione"
      ],
      "metadata": {
        "id": "ZkKIkj-WoJD9"
      }
    },
    {
      "cell_type": "markdown",
      "source": [
        "La matrice di confusione rispecchia la differenza di numerosità di esempi nelle diverse classi: la maggior parte degli errori sono infatti concentrati tra le tre classi per cui sono disponibili più esempi."
      ],
      "metadata": {
        "id": "KsVZ2aFitrnC"
      }
    },
    {
      "cell_type": "code",
      "source": [
        "_ = metrics.ConfusionMatrixDisplay.from_predictions(ye_out_te,\n",
        "                                                    MLP.predict(ye_in_te))"
      ],
      "metadata": {
        "id": "yrDP4NMdoEs7"
      },
      "execution_count": null,
      "outputs": []
    },
    {
      "cell_type": "markdown",
      "source": [
        "### Convalida incrociata (cross-validation)\n",
        "\n",
        "Questa procedura ci dà una stima piu robusta della generalizzazione del modello. Il numero e la randomizzazione delle partizioni in training/test set si può definire a priori quando si definisce l'oggetto KFold."
      ],
      "metadata": {
        "id": "m8tPPknFjfuB"
      }
    },
    {
      "cell_type": "code",
      "source": [
        "from sklearn.model_selection import KFold\n",
        "n_splits = 5\n",
        "kfold = KFold(n_splits=n_splits, shuffle=False)"
      ],
      "metadata": {
        "id": "0dSMwNUOptfF"
      },
      "execution_count": null,
      "outputs": []
    },
    {
      "cell_type": "code",
      "source": [
        "test_accuracy_folds = []\n",
        "for n_test_fold, (train_index, test_index) in enumerate(kfold.split(ye_in)):\n",
        "  MLP = MLPClassifier(hidden_layer_sizes=(100),\n",
        "                    solver='adam', learning_rate_init=0.0003,\n",
        "                    max_iter=10000, random_state=random_state)\n",
        "  MLP = MLP.fit(ye_in[train_index], ye_out[train_index])\n",
        "  #print(test_index)\n",
        "  test_score = MLP.score(ye_in[test_index], ye_out[test_index])\n",
        "  test_accuracy_folds.append(test_score)\n",
        "  print(f\"Accuratezza test-fold {n_test_fold}: {test_score:.3f}\")\n",
        "\n",
        "print(f\"Accuratezza media del modello in cross validation: {np.mean(test_accuracy_folds):.3f}\")"
      ],
      "metadata": {
        "id": "MVZV4Sk9jsJs"
      },
      "execution_count": null,
      "outputs": []
    }
  ]
}